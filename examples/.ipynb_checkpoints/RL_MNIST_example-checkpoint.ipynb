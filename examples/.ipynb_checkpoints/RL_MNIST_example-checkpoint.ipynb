{
 "cells": [
  {
   "cell_type": "code",
   "execution_count": 1,
   "metadata": {},
   "outputs": [],
   "source": [
    "import numpy as np\n",
    "import pandas as pd\n",
    "import matplotlib.pyplot as plt\n",
    "import gym\n",
    "import gym_classification"
   ]
  },
  {
   "cell_type": "code",
   "execution_count": 2,
   "metadata": {},
   "outputs": [
    {
     "name": "stderr",
     "output_type": "stream",
     "text": [
      "Using TensorFlow backend.\n"
     ]
    }
   ],
   "source": [
    "import keras\n",
    "from keras.datasets import mnist\n",
    "from keras.models import Sequential\n",
    "from keras.layers import Dense, Dropout, Flatten\n",
    "from keras.layers import Conv2D, MaxPooling2D\n",
    "from keras import backend as K"
   ]
  },
  {
   "cell_type": "markdown",
   "metadata": {},
   "source": [
    "## Import data and scale to input "
   ]
  },
  {
   "cell_type": "code",
   "execution_count": 3,
   "metadata": {},
   "outputs": [],
   "source": [
    "from keras.datasets import mnist\n",
    "\n",
    "(x_train, y_train), (x_test, y_test) = mnist.load_data()\n",
    "x_train = x_train.astype(np.float32)/255"
   ]
  },
  {
   "cell_type": "code",
   "execution_count": 5,
   "metadata": {},
   "outputs": [
    {
     "ename": "NameError",
     "evalue": "name 'kwargs' is not defined",
     "output_type": "error",
     "traceback": [
      "\u001b[1;31m---------------------------------------------------------------------------\u001b[0m",
      "\u001b[1;31mNameError\u001b[0m                                 Traceback (most recent call last)",
      "\u001b[1;32m<ipython-input-5-d2bae2a66646>\u001b[0m in \u001b[0;36m<module>\u001b[1;34m\u001b[0m\n\u001b[0;32m     10\u001b[0m \u001b[1;33m\u001b[0m\u001b[0m\n\u001b[0;32m     11\u001b[0m \u001b[1;31m# Fill values\u001b[0m\u001b[1;33m\u001b[0m\u001b[1;33m\u001b[0m\u001b[1;33m\u001b[0m\u001b[0m\n\u001b[1;32m---> 12\u001b[1;33m \u001b[0menv\u001b[0m\u001b[1;33m.\u001b[0m\u001b[0minit_dataset\u001b[0m\u001b[1;33m(\u001b[0m\u001b[0mX\u001b[0m\u001b[1;33m,\u001b[0m\u001b[0my\u001b[0m\u001b[1;33m,\u001b[0m\u001b[0mbatch_size\u001b[0m\u001b[1;33m=\u001b[0m\u001b[0mbatch_size\u001b[0m\u001b[1;33m,\u001b[0m\u001b[0moutput_shape\u001b[0m\u001b[1;33m=\u001b[0m\u001b[0minput_shape\u001b[0m\u001b[1;33m)\u001b[0m\u001b[1;33m\u001b[0m\u001b[1;33m\u001b[0m\u001b[0m\n\u001b[0m\u001b[0;32m     13\u001b[0m \u001b[1;33m\u001b[0m\u001b[0m\n\u001b[0;32m     14\u001b[0m \u001b[1;33m\u001b[0m\u001b[0m\n",
      "\u001b[1;32md:\\rl\\gym-classification\\gym_classification\\envs\\env_4_RL_classification.py\u001b[0m in \u001b[0;36minit_dataset\u001b[1;34m(self, X, y, batch_size, output_shape, randomize, custom_rewards)\u001b[0m\n\u001b[0;32m     50\u001b[0m             \u001b[0mnp\u001b[0m\u001b[1;33m.\u001b[0m\u001b[0mtake\u001b[0m\u001b[1;33m(\u001b[0m\u001b[0my\u001b[0m\u001b[1;33m,\u001b[0m\u001b[0mnew_indices\u001b[0m\u001b[1;33m,\u001b[0m\u001b[0maxis\u001b[0m\u001b[1;33m=\u001b[0m\u001b[1;36m0\u001b[0m\u001b[1;33m,\u001b[0m\u001b[0mout\u001b[0m\u001b[1;33m=\u001b[0m\u001b[0my\u001b[0m\u001b[1;33m)\u001b[0m\u001b[1;33m\u001b[0m\u001b[1;33m\u001b[0m\u001b[0m\n\u001b[0;32m     51\u001b[0m \u001b[1;33m\u001b[0m\u001b[0m\n\u001b[1;32m---> 52\u001b[1;33m         \u001b[0mself\u001b[0m\u001b[1;33m.\u001b[0m\u001b[0mX\u001b[0m \u001b[1;33m=\u001b[0m \u001b[0mkwargs\u001b[0m\u001b[1;33m.\u001b[0m\u001b[0mget\u001b[0m\u001b[1;33m(\u001b[0m\u001b[1;34m'X'\u001b[0m\u001b[1;33m,\u001b[0m\u001b[1;32mNone\u001b[0m\u001b[1;33m)\u001b[0m\u001b[1;33m\u001b[0m\u001b[1;33m\u001b[0m\u001b[0m\n\u001b[0m\u001b[0;32m     53\u001b[0m         \u001b[0mself\u001b[0m\u001b[1;33m.\u001b[0m\u001b[0my\u001b[0m \u001b[1;33m=\u001b[0m \u001b[0mkwargs\u001b[0m\u001b[1;33m.\u001b[0m\u001b[0mget\u001b[0m\u001b[1;33m(\u001b[0m\u001b[1;34m'y'\u001b[0m\u001b[1;33m,\u001b[0m\u001b[1;32mNone\u001b[0m\u001b[1;33m)\u001b[0m\u001b[1;33m\u001b[0m\u001b[1;33m\u001b[0m\u001b[0m\n\u001b[0;32m     54\u001b[0m \u001b[1;33m\u001b[0m\u001b[0m\n",
      "\u001b[1;31mNameError\u001b[0m: name 'kwargs' is not defined"
     ]
    }
   ],
   "source": [
    "X = x_train\n",
    "y = y_train\n",
    "\n",
    "batch_size = 100\n",
    "\n",
    "input_shape = (X.shape[1],X.shape[2],1)\n",
    "\n",
    " # Initialization of the enviroment\n",
    "env = gym.make('gym_classification:RLClassification-v0')\n",
    "\n",
    "# Fill values\n",
    "env.init_dataset(X,y,batch_size=batch_size,output_shape=input_shape)\n",
    "\n",
    "\n",
    "# RL parameters\n",
    "valid_actions = env.action_space\n",
    "num_actions = valid_actions.n\n",
    "epsilon = .1  # exploration\n",
    "num_episodes = 5\n",
    "iterations_episode = 100\n",
    "\n",
    "decay_rate = 0.99\n",
    "gamma = 0.001\n",
    "\n",
    "\n",
    "# Network arquitecture\n",
    "model = Sequential()\n",
    "model.add(Conv2D(32, kernel_size=(3, 3),\n",
    "                activation='relu',\n",
    "                input_shape=input_shape))\n",
    "model.add(Conv2D(64, (3, 3), activation='relu'))\n",
    "model.add(MaxPooling2D(pool_size=(2, 2)))\n",
    "model.add(Dropout(0.25))\n",
    "model.add(Flatten())\n",
    "model.add(Dense(128, activation='relu'))\n",
    "model.add(Dropout(0.5))\n",
    "model.add(Dense(num_actions, activation='softmax'))\n",
    "\n",
    "model.compile(loss=keras.losses.categorical_crossentropy,\n",
    "              optimizer=keras.optimizers.Adadelta(),\n",
    "              metrics=['accuracy'])\n",
    "\n",
    "\n",
    "print(model.summary())\n",
    "\n",
    "\n",
    "# history saving\n",
    "reward_chain = []\n",
    "loss_chain = []\n",
    "\n",
    "\n",
    "\n",
    "# Main loop\n",
    "for epoch in range(num_episodes):\n",
    "    loss = 0.\n",
    "    total_reward_by_episode = 0\n",
    "    # Reset enviromet, actualize the data batch\n",
    "    states = env.reset()\n",
    "\n",
    "    done = False\n",
    "    # Get control of the actions taken\n",
    "    ones = 0\n",
    "    zeros = 0\n",
    "\n",
    "    # Define exploration to improve performance\n",
    "    exploration = 1\n",
    "    # Iteration in one episode\n",
    "    q = np.zeros([batch_size,num_actions])\n",
    "    #for i_iteration in range(iterations_episode):\n",
    "\n",
    "    i_iteration = 0\n",
    "    while not done:\n",
    "        i_iteration += 1\n",
    "\n",
    "        # get next action\n",
    "        if exploration > 0.001:\n",
    "            exploration = epsilon*decay_rate**(epoch*i_iteration)            \n",
    "\n",
    "        if np.random.rand() <= exploration:\n",
    "            actions = np.random.randint(0, num_actions,batch_size)\n",
    "        else:\n",
    "            q = model.predict(states)\n",
    "            actions = np.argmax(q,axis=1)\n",
    "\n",
    "        # apply actions, get rewards and new state\n",
    "        next_states, reward, done, _ = env._step(actions)\n",
    "\n",
    "        next_states = next_states\n",
    "        \n",
    "        q_prime = model.predict(next_states)\n",
    "\n",
    "        indx = np.argmax(q_prime,axis=1)\n",
    "        sx = np.arange(len(indx))\n",
    "        # Update q values\n",
    "        targets = reward + gamma * q[sx,indx]   \n",
    "        q[sx,actions] = targets\n",
    "\n",
    "        # Train network, update loss\n",
    "        loss += model.train_on_batch(states, q)[0]\n",
    "\n",
    "        # Update the state\n",
    "        states = next_states\n",
    "\n",
    "        total_reward_by_episode += int(sum(reward))\n",
    "\n",
    "    if next_states.shape[0] != batch_size:\n",
    "            break # finished df\n",
    "    reward_chain.append(total_reward_by_episode)    \n",
    "    loss_chain.append(loss)\n",
    "\n",
    "    print(\"\\rEpoch {:03d}/{:03d} | Loss {:4.4f} | Tot reward x episode {:03d} \".format(epoch,\n",
    "          num_episodes ,loss, total_reward_by_episode))\n"
   ]
  },
  {
   "cell_type": "code",
   "execution_count": null,
   "metadata": {},
   "outputs": [],
   "source": []
  }
 ],
 "metadata": {
  "kernelspec": {
   "display_name": "Python 3",
   "language": "python",
   "name": "python3"
  },
  "language_info": {
   "codemirror_mode": {
    "name": "ipython",
    "version": 3
   },
   "file_extension": ".py",
   "mimetype": "text/x-python",
   "name": "python",
   "nbconvert_exporter": "python",
   "pygments_lexer": "ipython3",
   "version": "3.6.7"
  }
 },
 "nbformat": 4,
 "nbformat_minor": 2
}
